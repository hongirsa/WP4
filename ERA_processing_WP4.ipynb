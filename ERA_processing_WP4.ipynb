{
 "cells": [
  {
   "cell_type": "markdown",
   "id": "97e90068-c404-4fb2-8777-fca7b795fc6f",
   "metadata": {},
   "source": [
    "## ERA data processing \n",
    "    install Anaconda, use the following guide: https://www.anaconda.com/products/individual\n",
    "\n",
    "    go to Anconda command line\n",
    "    Create the following environment using the following command:\n",
    "        conda create -n ERA5 ipython jupyterlab numpy scipy \n",
    "        conda install -c conda-forge earthengine-api -y\n",
    "        conda activate ERA5\n",
    "        jupyter lab "
   ]
  },
  {
   "cell_type": "code",
   "execution_count": 1,
   "id": "59a5f7aa-2894-4e56-9bac-b0ee4359dc75",
   "metadata": {},
   "outputs": [],
   "source": [
    "import ee\n",
    "import time\n",
    "import math\n",
    "import csv\n",
    "import json\n",
    "import os\n",
    "import numpy as np\n",
    "import datetime\n",
    "from PIL import Image"
   ]
  },
  {
   "cell_type": "code",
   "execution_count": 2,
   "id": "8e6b9790-0f49-4235-a47e-0de5e7221ef9",
   "metadata": {},
   "outputs": [
    {
     "data": {
      "text/html": [
       "<p>To authorize access needed by Earth Engine, open the following\n",
       "        URL in a web browser and follow the instructions:</p>\n",
       "        <p><a href=https://code.earthengine.google.com/client-auth?scopes=https%3A//www.googleapis.com/auth/earthengine%20https%3A//www.googleapis.com/auth/devstorage.full_control&request_id=zeYyHP1OMAANY_yrZdRDcJj9fQ_zvOcrbDPFmoLIF58&tc=s5aThH_jrYmWXRxpv0cZjMFR2q41LA4sPo_W2Qxr6kE&cc=6HWvJJ4-nyYXapdBcHfsoe2f1MI1nLtzVj41bwaHR34>https://code.earthengine.google.com/client-auth?scopes=https%3A//www.googleapis.com/auth/earthengine%20https%3A//www.googleapis.com/auth/devstorage.full_control&request_id=zeYyHP1OMAANY_yrZdRDcJj9fQ_zvOcrbDPFmoLIF58&tc=s5aThH_jrYmWXRxpv0cZjMFR2q41LA4sPo_W2Qxr6kE&cc=6HWvJJ4-nyYXapdBcHfsoe2f1MI1nLtzVj41bwaHR34</a></p>\n",
       "        <p>The authorization workflow will generate a code, which you should paste in the box below.</p>\n",
       "        "
      ],
      "text/plain": [
       "<IPython.core.display.HTML object>"
      ]
     },
     "metadata": {},
     "output_type": "display_data"
    },
    {
     "name": "stdin",
     "output_type": "stream",
     "text": [
      "Enter verification code:  4/1AWtgzh76vlDtuiQ0Uq0Nga49FxTTFuCrQuB67XvMG7ST_v4HRVXh95UZsL8\n"
     ]
    },
    {
     "name": "stdout",
     "output_type": "stream",
     "text": [
      "\n",
      "Successfully saved authorization token.\n"
     ]
    }
   ],
   "source": [
    "ee.Authenticate()\n",
    "ee.Initialize()"
   ]
  },
  {
   "cell_type": "code",
   "execution_count": 40,
   "id": "92117a98-8922-4d39-b189-6b9f64da94b2",
   "metadata": {},
   "outputs": [],
   "source": [
    "def export_collection_to_drive(collection, num_images: int=0, image_names: list=[], crsdrive: str=\"\" ,crstransformdrive: list=[],gdrive_folder: str=\"\", scale: float=20, max_pixels: int=1e14,\n",
    "                               data_type: str=\"float\"):\n",
    "    collection = ee.ImageCollection(collection)\n",
    "    image_list = collection.toList(num_images)\n",
    "    task_list = []\n",
    "\n",
    "    for i in range(num_images):\n",
    "        image = ee.Image(image_list.get(i))\n",
    "        name = image_names[i]\n",
    "        # print(name)\n",
    "        typed_images = {\"double\": image.toDouble(), \"float\": image.toFloat(), \"byte\": image.toByte(), \"int\": image.toInt()}\n",
    "        export_task = ee.batch.Export.image.toDrive(image = typed_images[data_type],\n",
    "                                                    description = name,\n",
    "                                                    crs=crsdrive,\n",
    "                                                    crsTransform=crstransformdrive,\n",
    "                                                    folder = gdrive_folder,\n",
    "                                                    fileNamePrefix = name,\n",
    "                                                    region = image.geometry(),\n",
    "                                                    scale = scale,\n",
    "                                                    maxPixels = max_pixels)\n",
    "        export_task.start()\n",
    "        task_list.append(export_task) "
   ]
  },
  {
   "cell_type": "code",
   "execution_count": 81,
   "id": "247c282a-7873-412e-b7bb-95a9da203a69",
   "metadata": {},
   "outputs": [],
   "source": [
    "Alaska=ee.FeatureCollection('users/GangHong2/WP4/Met1km_Alaska')\n",
    "Canada=ee.FeatureCollection('users/GangHong2/WP4/Met1km_Canada')\n",
    "area=Canada\n",
    "\n",
    "startDate=ee.Date('2021-07-01') \n",
    "endDate=ee.Date('2021-08-06')\n",
    "numberOfDays = endDate.difference(startDate, 'days');  ## calcualte the number of days"
   ]
  },
  {
   "cell_type": "markdown",
   "id": "bff02b1b-95e7-48e0-84c4-253a18e86f5e",
   "metadata": {},
   "source": [
    "## calculate temperature_2m max"
   ]
  },
  {
   "cell_type": "code",
   "execution_count": 82,
   "id": "3a20f272-7d04-449c-acaa-7e54c2e5a019",
   "metadata": {},
   "outputs": [],
   "source": [
    "parameter='temperature_2m'\n",
    "## function for calculating the parameter\n",
    "def calDaily_max(dayOffset):\n",
    "    start = startDate.advance(dayOffset, 'days');\n",
    "    end = start.advance(1, 'days');\n",
    "    return ee.ImageCollection(\"ECMWF/ERA5_LAND/HOURLY\").select(parameter) \\\n",
    "        .filterDate(start, end) \\\n",
    "        .max() \\  ## maximum of the hourly data within the day\n",
    "        .clip(area.geometry())\\\n",
    "        .set('system:time_start', start.millis()) \\\n",
    "        .set('date', ee.Date(start).format('YYYY-MM-dd'))      \n",
    "\n",
    "## run the calDaily function for ImageCollection\n",
    "daily_temperature_max = ee.ImageCollection(\n",
    "  ee.List.sequence(0, numberOfDays.subtract(1))\n",
    "    .map(calDaily_max)\n",
    ")"
   ]
  },
  {
   "cell_type": "code",
   "execution_count": 83,
   "id": "bc0c3a6d-d4ab-4bfa-ae44-7776b2cbb235",
   "metadata": {},
   "outputs": [],
   "source": [
    "pro=daily_temperature_max.first().projection().getInfo()  ## get the projection information for the first file\n",
    "output_names_max = ([name +'_'+parameter+'_max' for name in daily_temperature_max.toList(daily_temperature_max.size()).map(lambda image: ee.Image(image).get('date')).getInfo()]) ## prepare the output name, format 'date+ parameter'"
   ]
  },
  {
   "cell_type": "code",
   "execution_count": 84,
   "id": "81ac8103-725e-4711-9974-2b7282c11b94",
   "metadata": {},
   "outputs": [],
   "source": [
    "export_task_temperature_2m_max =export_collection_to_drive(collection=daily_temperature_max,\n",
    "                                                   num_images=daily_temperature_max.size().getInfo(),                                                \n",
    "                                                   image_names = output_names_max,\n",
    "                                                   crsdrive=pro['crs'],\n",
    "                                                   crstransformdrive=pro['transform'],\n",
    "                                                   scale=11132,      ## 0.1 degree in the output                                           \n",
    "                                                   gdrive_folder=parameter+'_max',   ## use the parameter name to create a folder in Google Drive                                              \n",
    "                                                   data_type='float',\n",
    "                                                   max_pixels=1e13)"
   ]
  },
  {
   "cell_type": "markdown",
   "id": "189ebacf-aff6-4b7a-80b9-538c450c6d9e",
   "metadata": {},
   "source": [
    "## calculate temperature_2m min"
   ]
  },
  {
   "cell_type": "code",
   "execution_count": 85,
   "id": "b62ec076-c88f-4588-99c7-2925de9a336e",
   "metadata": {},
   "outputs": [],
   "source": [
    "parameter='temperature_2m'\n",
    "## function for calculating the parameter\n",
    "def calDaily_min(dayOffset):\n",
    "    start = startDate.advance(dayOffset, 'days');\n",
    "    end = start.advance(1, 'days');\n",
    "    return ee.ImageCollection(\"ECMWF/ERA5_LAND/HOURLY\").select(parameter) \\\n",
    "        .filterDate(start, end) \\\n",
    "        .min() \\ ## minimum of the hourly data within the day\n",
    "        .clip(area.geometry())\\\n",
    "        .set('system:time_start', start.millis()) \\\n",
    "        .set('date', ee.Date(start).format('YYYY-MM-dd'))           \n",
    "\n",
    "## run the calDaily function for ImageCollection\n",
    "daily_temperature_min = ee.ImageCollection(\n",
    "  ee.List.sequence(0, numberOfDays.subtract(1))\n",
    "    .map(calDaily_min)\n",
    ")"
   ]
  },
  {
   "cell_type": "code",
   "execution_count": 86,
   "id": "3e74af50-011b-42c1-8b31-38cee6640da8",
   "metadata": {},
   "outputs": [],
   "source": [
    "pro=daily_temperature_min.first().projection().getInfo()  ## get the projection information for the first file\n",
    "output_names_min = ([name +'_'+parameter+'_min' for name in daily_temperature_min.toList(daily_temperature_min.size()).map(lambda image: ee.Image(image).get('date')).getInfo()]) ## prepare the output name, format 'date+ parameter'"
   ]
  },
  {
   "cell_type": "code",
   "execution_count": 87,
   "id": "5c53082e-281e-420c-97f3-1e33db536619",
   "metadata": {},
   "outputs": [],
   "source": [
    "export_task_temperature_2m_min =export_collection_to_drive(collection=daily_temperature_min,\n",
    "                                                   num_images=daily_temperature_min.size().getInfo(),                                                \n",
    "                                                   image_names = output_names_min,\n",
    "                                                   crsdrive=pro['crs'],\n",
    "                                                   crstransformdrive=pro['transform'],\n",
    "                                                   scale=11132,       ## 0.1 degree in the output                                          \n",
    "                                                   gdrive_folder=parameter+'_min',   ## use the parameter name to create a folder in Google Drive                                              \n",
    "                                                   data_type='float',\n",
    "                                                   max_pixels=1e13)"
   ]
  },
  {
   "cell_type": "markdown",
   "id": "e87b247f-b1f3-4d5e-ac63-97e5af020446",
   "metadata": {},
   "source": [
    "## calculate ave dewpoint_temperature_2m"
   ]
  },
  {
   "cell_type": "code",
   "execution_count": 88,
   "id": "4f0b6c1d-37c5-4c77-a64a-fa5dbc0db2b0",
   "metadata": {},
   "outputs": [],
   "source": [
    "parameter='dewpoint_temperature_2m'\n",
    "## function for calculating the parameter\n",
    "def calDaily_dewpoint_temperature_mean(dayOffset):\n",
    "    start = startDate.advance(dayOffset, 'days');\n",
    "    end = start.advance(1, 'days');\n",
    "    return ee.ImageCollection(\"ECMWF/ERA5_LAND/HOURLY\").select(parameter) \\\n",
    "        .filterDate(start, end) \\\n",
    "        .mean() \\ ## minimum of the hourly data within the day\n",
    "        .clip(area.geometry())\\\n",
    "        .set('system:time_start', start.millis()) \\\n",
    "        .set('date', ee.Date(start).format('YYYY-MM-dd'))           \n",
    "\n",
    "## run the calDaily function for ImageCollection\n",
    "daily_dewpoint_temperature_mean = ee.ImageCollection(\n",
    "  ee.List.sequence(0, numberOfDays.subtract(1))\n",
    "    .map(calDaily_dewpoint_temperature_mean)\n",
    ")"
   ]
  },
  {
   "cell_type": "code",
   "execution_count": 89,
   "id": "4192ec7d-476f-4f3b-a1c4-bee05beb31ab",
   "metadata": {},
   "outputs": [],
   "source": [
    "pro=daily_dewpoint_temperature_mean.first().projection().getInfo()  ## get the projection information for the first file\n",
    "output_names_mean = ([name +'_'+parameter+'_mean' for name in daily_dewpoint_temperature_mean.toList(daily_dewpoint_temperature_mean.size()).map(lambda image: ee.Image(image).get('date')).getInfo()]) ## prepare the output name, format 'date+ parameter'"
   ]
  },
  {
   "cell_type": "code",
   "execution_count": 90,
   "id": "f592e7be-c588-4166-8538-f896d21e2274",
   "metadata": {},
   "outputs": [],
   "source": [
    "export_task_dewpoint_temperature =export_collection_to_drive(collection=daily_dewpoint_temperature_mean,\n",
    "                                                   num_images=daily_dewpoint_temperature_mean.size().getInfo(),                                                \n",
    "                                                   image_names = output_names_mean,\n",
    "                                                   crsdrive=pro['crs'],\n",
    "                                                   crstransformdrive=pro['transform'],\n",
    "                                                   scale=11132,        ## 0.1 degree in the output                                         \n",
    "                                                   gdrive_folder=parameter+'_mean',   ## use the parameter name to create a folder in Google Drive                                              \n",
    "                                                   data_type='float',\n",
    "                                                   max_pixels=1e13)"
   ]
  },
  {
   "cell_type": "markdown",
   "id": "180b022b-f9a8-4bf6-bada-cbd8b7535b48",
   "metadata": {},
   "source": [
    "## total_precipitation"
   ]
  },
  {
   "cell_type": "code",
   "execution_count": 91,
   "id": "2e38250b-2e4e-4170-93b1-c1267f5a5d6a",
   "metadata": {},
   "outputs": [],
   "source": [
    "parameter='total_precipitation_hourly'\n",
    "## function for calculating the parameter\n",
    "def calDaily_precipitation_sum(dayOffset):\n",
    "    start = startDate.advance(dayOffset, 'days');\n",
    "    end = start.advance(1, 'days');\n",
    "    return ee.ImageCollection(\"ECMWF/ERA5_LAND/HOURLY\").select(parameter) \\\n",
    "        .filterDate(start, end) \\\n",
    "        .sum() \\ ## total of the hourly data within the day\n",
    "        .clip(area.geometry())\\\n",
    "        .set('system:time_start', start.millis()) \\\n",
    "        .set('date', ee.Date(start).format('YYYY-MM-dd'))           \n",
    "\n",
    "## run the calDaily function for ImageCollection\n",
    "daily_precipitation_sum = ee.ImageCollection(\n",
    "  ee.List.sequence(0, numberOfDays.subtract(1))\n",
    "    .map(calDaily_precipitation_sum))"
   ]
  },
  {
   "cell_type": "code",
   "execution_count": 92,
   "id": "c9266adb-b79e-49d0-9b71-e637dc14b3c9",
   "metadata": {},
   "outputs": [],
   "source": [
    "pro=daily_precipitation_sum.first().projection().getInfo()  ## get the projection information for the first file\n",
    "output_names_sum = ([name +'_'+parameter+'_sum' for name in daily_precipitation_sum.toList(daily_precipitation_sum.size()).map(lambda image: ee.Image(image).get('date')).getInfo()]) ## prepare the output name, format 'date+ parameter'"
   ]
  },
  {
   "cell_type": "code",
   "execution_count": 93,
   "id": "13861051-d678-46bf-9661-79420d437ea4",
   "metadata": {},
   "outputs": [],
   "source": [
    "export_task_precipitation =export_collection_to_drive(collection=daily_precipitation_sum,\n",
    "                                                   num_images=daily_precipitation_sum.size().getInfo(),                                                \n",
    "                                                   image_names = output_names_sum,\n",
    "                                                   crsdrive=pro['crs'],\n",
    "                                                   crstransformdrive=pro['transform'],\n",
    "                                                   scale=11132,      ## 0.1 degree in the output                                           \n",
    "                                                   gdrive_folder=parameter+'_sum',   ## use the parameter name to create a folder in Google Drive                                              \n",
    "                                                   data_type='float',\n",
    "                                                   max_pixels=1e13)"
   ]
  },
  {
   "cell_type": "markdown",
   "id": "d6d5dbae-9e4e-476e-bb45-290c1bbfe8f4",
   "metadata": {},
   "source": [
    "## total surface_solar_radiation_downwards"
   ]
  },
  {
   "cell_type": "code",
   "execution_count": 95,
   "id": "8b38cfb4-43d1-4959-b19e-d2070400bad2",
   "metadata": {},
   "outputs": [],
   "source": [
    "parameter='surface_solar_radiation_downwards'\n",
    "## function for calculating the parameter\n",
    "def calDaily_surface_solar_radiation_downwards_sum(dayOffset):\n",
    "    start = startDate.advance(dayOffset, 'days');\n",
    "    end = start.advance(1, 'days');\n",
    "    return ee.ImageCollection(\"ECMWF/ERA5_LAND/HOURLY\").select(parameter) \\\n",
    "        .filterDate(start, end) \\\n",
    "        .sum() \\ ## total of the hourly data within the day\n",
    "        .clip(area.geometry())\\\n",
    "        .set('system:time_start', start.millis()) \\\n",
    "        .set('date', ee.Date(start).format('YYYY-MM-dd'))           \n",
    "\n",
    "## run the calDaily function for ImageCollection\n",
    "daily_surface_solar_radiation_downwards_sum = ee.ImageCollection(\n",
    "  ee.List.sequence(0, numberOfDays.subtract(1))\n",
    "    .map(calDaily_surface_solar_radiation_downwards_sum))"
   ]
  },
  {
   "cell_type": "code",
   "execution_count": 96,
   "id": "2877f29d-0106-4273-86cb-46895f85d49e",
   "metadata": {},
   "outputs": [],
   "source": [
    "pro=daily_surface_solar_radiation_downwards_sum.first().projection().getInfo()  ## get the projection information for the first file\n",
    "output_names_sum = ([name +'_'+parameter+'_sum' for name in daily_surface_solar_radiation_downwards_sum.toList(daily_surface_solar_radiation_downwards_sum.size()).map(lambda image: ee.Image(image).get('date')).getInfo()]) ## prepare the output name, format 'date+ parameter'"
   ]
  },
  {
   "cell_type": "code",
   "execution_count": 97,
   "id": "92b6649e-d468-412c-94e4-eb6ae218a99e",
   "metadata": {},
   "outputs": [],
   "source": [
    "export_task_surface_solar_radiation =export_collection_to_drive(collection=daily_surface_solar_radiation_downwards_sum,\n",
    "                                                   num_images=daily_surface_solar_radiation_downwards_sum.size().getInfo(),                                                \n",
    "                                                   image_names = output_names_sum,\n",
    "                                                   crsdrive=pro['crs'],\n",
    "                                                   crstransformdrive=pro['transform'],\n",
    "                                                   scale=11132,         ## 0.1 degree in the output                                        \n",
    "                                                   gdrive_folder=parameter+'_sum',   ## use the parameter name to create a folder in Google Drive                                              \n",
    "                                                   data_type='float',\n",
    "                                                   max_pixels=1e13)"
   ]
  },
  {
   "cell_type": "markdown",
   "id": "ff376b22-80a1-4ac8-857e-a56dd169802a",
   "metadata": {},
   "source": [
    "## total surface_thermal_radiation_downwards"
   ]
  },
  {
   "cell_type": "code",
   "execution_count": 98,
   "id": "1c9a38de-0601-4817-b0a9-1f193560ce96",
   "metadata": {},
   "outputs": [],
   "source": [
    "parameter='surface_thermal_radiation_downwards'\n",
    "## function for calculating the parameter\n",
    "def calDaily_surface_thermal_radiation_downwards_sum(dayOffset):\n",
    "    start = startDate.advance(dayOffset, 'days');\n",
    "    end = start.advance(1, 'days');\n",
    "    return ee.ImageCollection(\"ECMWF/ERA5_LAND/HOURLY\").select(parameter) \\\n",
    "        .filterDate(start, end) \\\n",
    "        .sum() \\ ## total of the hourly data within the day\n",
    "        .clip(area.geometry())\\\n",
    "        .set('system:time_start', start.millis()) \\\n",
    "        .set('date', ee.Date(start).format('YYYY-MM-dd'))           \n",
    "\n",
    "## run the calDaily function for ImageCollection\n",
    "daily_surface_thermal_radiation_downwards_sum = ee.ImageCollection(\n",
    "  ee.List.sequence(0, numberOfDays.subtract(1))\n",
    "    .map(calDaily_surface_thermal_radiation_downwards_sum))"
   ]
  },
  {
   "cell_type": "code",
   "execution_count": 99,
   "id": "6059ca0e-e95e-459d-bf76-0444d6eb6efd",
   "metadata": {},
   "outputs": [],
   "source": [
    "pro=daily_surface_thermal_radiation_downwards_sum.first().projection().getInfo()  ## get the projection information for the first file\n",
    "output_names_sum = ([name +'_'+parameter+'_sum' for name in daily_surface_thermal_radiation_downwards_sum.toList(daily_surface_thermal_radiation_downwards_sum.size()).map(lambda image: ee.Image(image).get('date')).getInfo()]) ## prepare the output name, format 'date+ parameter'"
   ]
  },
  {
   "cell_type": "code",
   "execution_count": 100,
   "id": "b3cead8c-446c-41fe-bf51-d9341bb10c26",
   "metadata": {},
   "outputs": [],
   "source": [
    "export_task_surface_thermal_radiation =export_collection_to_drive(collection=daily_surface_thermal_radiation_downwards_sum,\n",
    "                                                   num_images=daily_surface_thermal_radiation_downwards_sum.size().getInfo(),                                                \n",
    "                                                   image_names = output_names_sum,\n",
    "                                                   crsdrive=pro['crs'],\n",
    "                                                   crstransformdrive=pro['transform'],\n",
    "                                                   scale=11132,       ## 0.1 degree in the output                                          \n",
    "                                                   gdrive_folder=parameter+'_sum',   ## use the parameter name to create a folder in Google Drive                                              \n",
    "                                                   data_type='float',\n",
    "                                                   max_pixels=1e13)"
   ]
  },
  {
   "cell_type": "markdown",
   "id": "3bb81540-ffb3-4757-9072-c483d7ff926e",
   "metadata": {},
   "source": [
    "## claculate wind component "
   ]
  },
  {
   "cell_type": "code",
   "execution_count": 120,
   "id": "755e7770-be32-48b6-9a69-38f6400fd4ef",
   "metadata": {},
   "outputs": [],
   "source": [
    "def cal_wind(image):\n",
    "    wind = image.expression(\n",
    "    '(u**2+v**2)**0.5', {\n",
    "      'u': image.select('u_component_of_wind_10m'),\n",
    "      'v': image.select('v_component_of_wind_10m'),\n",
    "    }).rename('wind');\n",
    "  \n",
    "    time = image.get('system:time_start');\n",
    "    return wind.set('date', ee.Date(time).format('YYYY-MM-dd')).set('system:time_start',time);\n",
    "  "
   ]
  },
  {
   "cell_type": "code",
   "execution_count": 125,
   "id": "de2005d8-252d-464a-acee-0fa70bae8366",
   "metadata": {},
   "outputs": [],
   "source": [
    "wind_dataset = ee.ImageCollection(\"ECMWF/ERA5_LAND/HOURLY\").select('u_component_of_wind_10m','v_component_of_wind_10m')\\\n",
    "            .filter(ee.Filter.date(startDate, endDate))\\\n",
    "            .map(lambda image: ee.Image(image).clip(area));\n",
    "\n",
    "component_wind = wind_dataset.map(cal_wind)"
   ]
  },
  {
   "cell_type": "code",
   "execution_count": 122,
   "id": "025c3487-e545-4fa8-9191-9ffaafcf5703",
   "metadata": {},
   "outputs": [],
   "source": [
    "# component_wind= ee.ImageCollection(\"ECMWF/ERA5_LAND/HOURLY\").select('u_component_of_wind_10m','v_component_of_wind_10m')\\\n",
    "#             .filter(ee.Filter.date(startDate, endDate))\\\n",
    "#             .map(lambda image: ee.Image(image).clip(area))\\\n",
    "#             .map(cal_wind)\n",
    "# # component_wind = wind_dataset.map(component_wind)"
   ]
  },
  {
   "cell_type": "code",
   "execution_count": 126,
   "id": "57fb37d3-8c6d-43c2-9b88-f47aba3c195e",
   "metadata": {},
   "outputs": [],
   "source": [
    "parameter='wind'\n",
    "## function for calculating the parameter\n",
    "def calDaily_wind_mean(dayOffset):\n",
    "    start = startDate.advance(dayOffset, 'days');\n",
    "    end = start.advance(1, 'days');\n",
    "    return ee.ImageCollection(component_wind).select(parameter) \\\n",
    "        .filterDate(start, end) \\\n",
    "        .mean() \\ ## sum of the hourly data within the day\n",
    "        .clip(area.geometry())\\\n",
    "        .set('system:time_start', start.millis()) \\\n",
    "        .set('date', ee.Date(start).format('YYYY-MM-dd'))           \n",
    "\n",
    "## run the calDaily function for ImageCollection\n",
    "daily_wind_mean = ee.ImageCollection(\n",
    "  ee.List.sequence(0, numberOfDays.subtract(1))\n",
    "    .map(calDaily_wind_mean))"
   ]
  },
  {
   "cell_type": "code",
   "execution_count": 127,
   "id": "51cb1137-1d75-4ae3-87f3-b2d83e59d73d",
   "metadata": {},
   "outputs": [],
   "source": [
    "pro=daily_wind_mean.first().projection().getInfo()  ## get the projection information for the first file\n",
    "output_names_mean = ([name +'_'+parameter+'_mean' for name in daily_wind_mean.toList(daily_wind_mean.size()).map(lambda image: ee.Image(image).get('date')).getInfo()]) ## prepare the output name, format 'date+ parameter'"
   ]
  },
  {
   "cell_type": "code",
   "execution_count": 128,
   "id": "b1f11b2d-4216-4664-a95c-cc1602709df7",
   "metadata": {},
   "outputs": [],
   "source": [
    "export_task_wind =export_collection_to_drive(collection=daily_wind_mean,\n",
    "                                                   num_images=daily_wind_mean.size().getInfo(),                                                \n",
    "                                                   image_names = output_names_mean,\n",
    "                                                   crsdrive=pro['crs'],\n",
    "                                                   crstransformdrive=pro['transform'],\n",
    "                                                   scale=11132,              ## 0.1 degree in the output                               \n",
    "                                                   gdrive_folder=parameter+'_mean',   ## use the parameter name to create a folder in Google Drive                                              \n",
    "                                                   data_type='float',\n",
    "                                                   max_pixels=1e13)"
   ]
  },
  {
   "cell_type": "markdown",
   "id": "e5e08013-22bb-4e0e-a022-f9e1959fea34",
   "metadata": {},
   "source": [
    "## convert tiff file to raw- download tiff files from Google Drive, the code below can convert all tif files in one directory to raw files in a new directry called raw"
   ]
  },
  {
   "cell_type": "code",
   "execution_count": 45,
   "id": "adc3cd2e-4dee-418c-bfdf-f6d205d93f71",
   "metadata": {},
   "outputs": [],
   "source": [
    "file_dir='E:\\\\temperature_2m\\\\'\n",
    "out_dir='E:\\\\temperature_2m\\\\raw\\\\'\n",
    "if not os.path.exists(out_dir):\n",
    "    os.makedirs(out_dir)"
   ]
  },
  {
   "cell_type": "code",
   "execution_count": 46,
   "id": "afc6f77a-b697-40aa-a7c0-3a936768ab44",
   "metadata": {},
   "outputs": [],
   "source": [
    "for file in os.listdir(file_dir):\n",
    "    if file.endswith('.tif'):      \n",
    "        prefix_file=file[:-4]  ## get the file name without extension\n",
    "        input_file=os.path.join(file_dir, file) ## get the full path of tif file\n",
    "        output_file = os.path.join(out_dir, prefix_file+\".raw\")       ## get the full path of raw file\n",
    "        im = Image.open(input_file)\n",
    "        imarray = np.array(im)   ## conver to numpy array\n",
    "        imarray.astype('float32').tofile(output_file)"
   ]
  }
 ],
 "metadata": {
  "kernelspec": {
   "display_name": "Python 3 (ipykernel)",
   "language": "python",
   "name": "python3"
  },
  "language_info": {
   "codemirror_mode": {
    "name": "ipython",
    "version": 3
   },
   "file_extension": ".py",
   "mimetype": "text/x-python",
   "name": "python",
   "nbconvert_exporter": "python",
   "pygments_lexer": "ipython3",
   "version": "3.10.9"
  }
 },
 "nbformat": 4,
 "nbformat_minor": 5
}
